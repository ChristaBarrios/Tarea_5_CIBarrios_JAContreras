{
 "cells": [
  {
   "cell_type": "markdown",
   "metadata": {},
   "source": [
    "<img style=\"float: left; margin: 30px 15px 15px 15px;\" src=\"https://encrypted-tbn0.gstatic.com/images?q=tbn:ANd9GcTFzQj91sOlkeDFkg5HDbjtR4QJYmLXkfMNig&usqp=CAU\" width=\"400\" height=\"500\" /> \n",
    "    \n",
    "    \n",
    "### <font color='navy'> Modelos no lineales para pronósticos. \n",
    "\n",
    "**Nombres:** \n",
    "- Christa Itzel Barrios Martinez\n",
    "- Javier Alejandro Contreras Figueroa\n",
    "\n",
    "**Fecha:** 15 de febrero del 2024.\n",
    "\n",
    "**Expediente** : \n",
    "- 739328\n",
    "- 739708\n",
    "    \n",
    "**Profesor:** Oscar David Jaramillo Zuluaga.\n",
    "    \n",
    "**Link Github**: https://github.com/ChristaBarrios/Tarea_5_CIBarrios_JAContreras.git\n",
    "\n",
    "# Tarea 5: Clase 13"
   ]
  },
  {
   "cell_type": "markdown",
   "metadata": {},
   "source": [
    "Código de solución estudiante 1"
   ]
  },
  {
   "cell_type": "code",
   "execution_count": 2,
   "outputs": [],
   "source": [
    "# Paqueterías necesarias\n",
    "import numpy as np\n",
    "import pandas as pd\n",
    "import matplotlib.pyplot as plt\n",
    "from keras import layers\n",
    "from keras.models import Sequential\n",
    "from keras.layers import Dense\n",
    "from keras.layers import Flatten\n",
    "from keras.models import Sequential, Model\n",
    "from keras.layers import Conv1D, MaxPooling1D"
   ],
   "metadata": {
    "collapsed": false,
    "ExecuteTime": {
     "end_time": "2024-03-12T21:55:14.612922900Z",
     "start_time": "2024-03-12T21:55:14.603554800Z"
    }
   }
  },
  {
   "cell_type": "code",
   "execution_count": 4,
   "outputs": [],
   "source": [
    "data = pd.read_csv('Housing.csv')"
   ],
   "metadata": {
    "collapsed": false,
    "ExecuteTime": {
     "end_time": "2024-03-12T21:56:16.432263800Z",
     "start_time": "2024-03-12T21:56:16.356479800Z"
    }
   }
  },
  {
   "cell_type": "code",
   "execution_count": 5,
   "outputs": [
    {
     "data": {
      "text/plain": "      price  area  bedrooms  bathrooms  stories mainroad guestroom basement  \\\n0  13300000  7420         4          2        3      yes        no       no   \n1  12250000  8960         4          4        4      yes        no       no   \n2  12250000  9960         3          2        2      yes        no      yes   \n3  12215000  7500         4          2        2      yes        no      yes   \n4  11410000  7420         4          1        2      yes       yes      yes   \n\n  hotwaterheating airconditioning  parking prefarea furnishingstatus  \n0              no             yes        2      yes        furnished  \n1              no             yes        3       no        furnished  \n2              no              no        2      yes   semi-furnished  \n3              no             yes        3      yes        furnished  \n4              no             yes        2       no        furnished  ",
      "text/html": "<div>\n<style scoped>\n    .dataframe tbody tr th:only-of-type {\n        vertical-align: middle;\n    }\n\n    .dataframe tbody tr th {\n        vertical-align: top;\n    }\n\n    .dataframe thead th {\n        text-align: right;\n    }\n</style>\n<table border=\"1\" class=\"dataframe\">\n  <thead>\n    <tr style=\"text-align: right;\">\n      <th></th>\n      <th>price</th>\n      <th>area</th>\n      <th>bedrooms</th>\n      <th>bathrooms</th>\n      <th>stories</th>\n      <th>mainroad</th>\n      <th>guestroom</th>\n      <th>basement</th>\n      <th>hotwaterheating</th>\n      <th>airconditioning</th>\n      <th>parking</th>\n      <th>prefarea</th>\n      <th>furnishingstatus</th>\n    </tr>\n  </thead>\n  <tbody>\n    <tr>\n      <th>0</th>\n      <td>13300000</td>\n      <td>7420</td>\n      <td>4</td>\n      <td>2</td>\n      <td>3</td>\n      <td>yes</td>\n      <td>no</td>\n      <td>no</td>\n      <td>no</td>\n      <td>yes</td>\n      <td>2</td>\n      <td>yes</td>\n      <td>furnished</td>\n    </tr>\n    <tr>\n      <th>1</th>\n      <td>12250000</td>\n      <td>8960</td>\n      <td>4</td>\n      <td>4</td>\n      <td>4</td>\n      <td>yes</td>\n      <td>no</td>\n      <td>no</td>\n      <td>no</td>\n      <td>yes</td>\n      <td>3</td>\n      <td>no</td>\n      <td>furnished</td>\n    </tr>\n    <tr>\n      <th>2</th>\n      <td>12250000</td>\n      <td>9960</td>\n      <td>3</td>\n      <td>2</td>\n      <td>2</td>\n      <td>yes</td>\n      <td>no</td>\n      <td>yes</td>\n      <td>no</td>\n      <td>no</td>\n      <td>2</td>\n      <td>yes</td>\n      <td>semi-furnished</td>\n    </tr>\n    <tr>\n      <th>3</th>\n      <td>12215000</td>\n      <td>7500</td>\n      <td>4</td>\n      <td>2</td>\n      <td>2</td>\n      <td>yes</td>\n      <td>no</td>\n      <td>yes</td>\n      <td>no</td>\n      <td>yes</td>\n      <td>3</td>\n      <td>yes</td>\n      <td>furnished</td>\n    </tr>\n    <tr>\n      <th>4</th>\n      <td>11410000</td>\n      <td>7420</td>\n      <td>4</td>\n      <td>1</td>\n      <td>2</td>\n      <td>yes</td>\n      <td>yes</td>\n      <td>yes</td>\n      <td>no</td>\n      <td>yes</td>\n      <td>2</td>\n      <td>no</td>\n      <td>furnished</td>\n    </tr>\n  </tbody>\n</table>\n</div>"
     },
     "execution_count": 5,
     "metadata": {},
     "output_type": "execute_result"
    }
   ],
   "source": [
    "data.head()"
   ],
   "metadata": {
    "collapsed": false,
    "ExecuteTime": {
     "end_time": "2024-03-12T21:56:25.658789500Z",
     "start_time": "2024-03-12T21:56:25.577403Z"
    }
   }
  },
  {
   "cell_type": "code",
   "execution_count": 6,
   "outputs": [
    {
     "data": {
      "text/plain": "price                int64\narea                 int64\nbedrooms             int64\nbathrooms            int64\nstories              int64\nmainroad            object\nguestroom           object\nbasement            object\nhotwaterheating     object\nairconditioning     object\nparking              int64\nprefarea            object\nfurnishingstatus    object\ndtype: object"
     },
     "execution_count": 6,
     "metadata": {},
     "output_type": "execute_result"
    }
   ],
   "source": [
    "data.dtypes"
   ],
   "metadata": {
    "collapsed": false,
    "ExecuteTime": {
     "end_time": "2024-03-12T21:56:31.928113300Z",
     "start_time": "2024-03-12T21:56:31.896617700Z"
    }
   }
  },
  {
   "cell_type": "markdown",
   "source": [
    "## Modelo 1"
   ],
   "metadata": {
    "collapsed": false
   }
  },
  {
   "cell_type": "code",
   "execution_count": 7,
   "outputs": [],
   "source": [
    "# dividir una secuencia univariada en muestras\n",
    "def split_univariate_sequence(sequence, n_steps):\n",
    "    X, y = list(), list()\n",
    "    for i in range(len(sequence)):\n",
    "        # encontrar el final de este patrón\n",
    "        end_ix = i + n_steps\n",
    "        \n",
    "        # comprobar si estamos más allá de la secuencia\n",
    "        if end_ix > len(sequence)-1:\n",
    "            break\n",
    "        # reunir partes de entrada y salida de}l patrón\n",
    "        seq_x, seq_y = sequence[i:end_ix], sequence[end_ix]\n",
    "        X.append(seq_x)\n",
    "        y.append(seq_y)\n",
    "    return np.array(X), np.array(y)"
   ],
   "metadata": {
    "collapsed": false,
    "ExecuteTime": {
     "end_time": "2024-03-12T21:57:01.834200600Z",
     "start_time": "2024-03-12T21:57:01.813417800Z"
    }
   }
  },
  {
   "cell_type": "code",
   "execution_count": 8,
   "outputs": [],
   "source": [
    "n_steps = 3\n",
    "\n",
    "# Dividir en muestras\n",
    "X, y = split_univariate_sequence(data['price'], n_steps)"
   ],
   "metadata": {
    "collapsed": false,
    "ExecuteTime": {
     "end_time": "2024-03-12T21:57:08.962814500Z",
     "start_time": "2024-03-12T21:57:08.897816500Z"
    }
   }
  },
  {
   "cell_type": "code",
   "execution_count": 9,
   "outputs": [
    {
     "name": "stdout",
     "output_type": "stream",
     "text": [
      "X: (542, 3, 1)\n",
      "y: (542,)\n"
     ]
    }
   ],
   "source": [
    "X = X.reshape((X.shape[0], X.shape[1], 1))\n",
    "\n",
    "print(f'X: {X.shape}')\n",
    "print(f'y: {y.shape}')"
   ],
   "metadata": {
    "collapsed": false,
    "ExecuteTime": {
     "end_time": "2024-03-12T21:57:14.557510800Z",
     "start_time": "2024-03-12T21:57:14.522557300Z"
    }
   }
  },
  {
   "cell_type": "code",
   "execution_count": 10,
   "outputs": [
    {
     "name": "stdout",
     "output_type": "stream",
     "text": [
      "WARNING:tensorflow:From C:\\Users\\Acer\\anaconda3\\Lib\\site-packages\\keras\\src\\backend.py:1398: The name tf.executing_eagerly_outside_functions is deprecated. Please use tf.compat.v1.executing_eagerly_outside_functions instead.\n",
      "WARNING:tensorflow:From C:\\Users\\Acer\\anaconda3\\Lib\\site-packages\\keras\\src\\backend.py:6642: The name tf.nn.max_pool is deprecated. Please use tf.nn.max_pool2d instead.\n",
      "WARNING:tensorflow:From C:\\Users\\Acer\\anaconda3\\Lib\\site-packages\\keras\\src\\optimizers\\__init__.py:309: The name tf.train.Optimizer is deprecated. Please use tf.compat.v1.train.Optimizer instead.\n",
      "Model: \"sequential\"\n",
      "_________________________________________________________________\n",
      " Layer (type)                Output Shape              Param #   \n",
      "=================================================================\n",
      " conv1d (Conv1D)             (None, 2, 64)             192       \n",
      "                                                                 \n",
      " max_pooling1d (MaxPooling1  (None, 1, 64)             0         \n",
      " D)                                                              \n",
      "                                                                 \n",
      " flatten (Flatten)           (None, 64)                0         \n",
      "                                                                 \n",
      " dense (Dense)               (None, 50)                3250      \n",
      "                                                                 \n",
      " dense_1 (Dense)             (None, 1)                 51        \n",
      "                                                                 \n",
      "=================================================================\n",
      "Total params: 3493 (13.64 KB)\n",
      "Trainable params: 3493 (13.64 KB)\n",
      "Non-trainable params: 0 (0.00 Byte)\n",
      "_________________________________________________________________\n"
     ]
    }
   ],
   "source": [
    "model_1 = Sequential([\n",
    "    layers.Input(shape=(n_steps,1)),\n",
    "    layers.Conv1D(64, 2, activation='relu'),\n",
    "    layers.MaxPooling1D(),\n",
    "    layers.Flatten(),\n",
    "    layers.Dense(50, 'relu'),\n",
    "    layers.Dense(1)\n",
    "])\n",
    "\n",
    "model_1.compile(optimizer='adam', loss='mse')\n",
    "model_1.summary()"
   ],
   "metadata": {
    "collapsed": false,
    "ExecuteTime": {
     "end_time": "2024-03-12T21:57:29.231209300Z",
     "start_time": "2024-03-12T21:57:27.918086800Z"
    }
   }
  },
  {
   "cell_type": "code",
   "execution_count": 11,
   "outputs": [
    {
     "name": "stdout",
     "output_type": "stream",
     "text": [
      "WARNING:tensorflow:From C:\\Users\\Acer\\anaconda3\\Lib\\site-packages\\keras\\src\\utils\\tf_utils.py:492: The name tf.ragged.RaggedTensorValue is deprecated. Please use tf.compat.v1.ragged.RaggedTensorValue instead.\n"
     ]
    }
   ],
   "source": [
    "history_1 = model_1.fit(X, y, epochs=100, verbose=False)"
   ],
   "metadata": {
    "collapsed": false,
    "ExecuteTime": {
     "end_time": "2024-03-12T21:57:45.328265900Z",
     "start_time": "2024-03-12T21:57:36.916632Z"
    }
   }
  },
  {
   "cell_type": "code",
   "execution_count": 12,
   "outputs": [
    {
     "data": {
      "text/plain": "<Figure size 500x300 with 1 Axes>",
      "image/png": "[encoded data removed]"
     },
     "metadata": {},
     "output_type": "display_data"
    }
   ],
   "source": [
    "plt.figure(figsize=(5,3))\n",
    "\n",
    "plt.plot(history_1.history['loss'])\n",
    "plt.suptitle('Loss')\n",
    "\n",
    "plt.show()"
   ],
   "metadata": {
    "collapsed": false,
    "ExecuteTime": {
     "end_time": "2024-03-12T21:57:45.913736800Z",
     "start_time": "2024-03-12T21:57:45.328265900Z"
    }
   }
  },
  {
   "cell_type": "markdown",
   "source": [
    "## Modelo 2"
   ],
   "metadata": {
    "collapsed": false
   }
  },
  {
   "cell_type": "code",
   "execution_count": 13,
   "outputs": [],
   "source": [
    "def split_multivariate_sequence(sequence: np.ndarray, n_steps: int):\n",
    "    X, y = list(), list()\n",
    "    for i in range(len(sequence)):\n",
    "        end_ix = i + n_steps\n",
    "        \n",
    "        if end_ix > len(sequence):\n",
    "            break\n",
    "        seq_x, seq_y = sequence[i:end_ix, :-1], sequence[end_ix - 1, -1]\n",
    "        X.append(seq_x)\n",
    "        y.append(seq_y)\n",
    "    return np.array(X), np.array(y)"
   ],
   "metadata": {
    "collapsed": false,
    "ExecuteTime": {
     "end_time": "2024-03-12T21:58:23.807288600Z",
     "start_time": "2024-03-12T21:58:23.768064400Z"
    }
   }
  },
  {
   "cell_type": "code",
   "execution_count": 14,
   "outputs": [],
   "source": [
    "numeric_data = data.select_dtypes(include='number')\n",
    "\n",
    "# Reorder columns\n",
    "cols = [c for c in numeric_data.columns if c != 'price']\n",
    "cols += ['price']\n",
    "numeric_data = numeric_data[cols]"
   ],
   "metadata": {
    "collapsed": false,
    "ExecuteTime": {
     "end_time": "2024-03-12T21:58:31.737271900Z",
     "start_time": "2024-03-12T21:58:31.694015300Z"
    }
   }
  },
  {
   "cell_type": "code",
   "execution_count": 15,
   "outputs": [
    {
     "name": "stdout",
     "output_type": "stream",
     "text": [
      "X: (543, 3, 5)\n",
      "y: (543,)\n"
     ]
    }
   ],
   "source": [
    "X, y = split_multivariate_sequence(numeric_data.to_numpy(), n_steps)\n",
    "n_features = X.shape[2]\n",
    "\n",
    "print(f'X: {X.shape}')\n",
    "print(f'y: {y.shape}')"
   ],
   "metadata": {
    "collapsed": false,
    "ExecuteTime": {
     "end_time": "2024-03-12T21:58:47.304591900Z",
     "start_time": "2024-03-12T21:58:47.280577100Z"
    }
   }
  },
  {
   "cell_type": "code",
   "execution_count": 16,
   "outputs": [
    {
     "name": "stdout",
     "output_type": "stream",
     "text": [
      "Model: \"sequential_1\"\n",
      "_________________________________________________________________\n",
      " Layer (type)                Output Shape              Param #   \n",
      "=================================================================\n",
      " conv1d_1 (Conv1D)           (None, 2, 64)             704       \n",
      "                                                                 \n",
      " max_pooling1d_1 (MaxPoolin  (None, 1, 64)             0         \n",
      " g1D)                                                            \n",
      "                                                                 \n",
      " flatten_1 (Flatten)         (None, 64)                0         \n",
      "                                                                 \n",
      " dense_2 (Dense)             (None, 50)                3250      \n",
      "                                                                 \n",
      " dense_3 (Dense)             (None, 1)                 51        \n",
      "                                                                 \n",
      "=================================================================\n",
      "Total params: 4005 (15.64 KB)\n",
      "Trainable params: 4005 (15.64 KB)\n",
      "Non-trainable params: 0 (0.00 Byte)\n",
      "_________________________________________________________________\n"
     ]
    }
   ],
   "source": [
    "model_2 = Sequential([\n",
    "    layers.Input(shape=(n_steps, n_features)),\n",
    "    layers.Conv1D(64, 2,  activation='relu'),\n",
    "    layers.MaxPooling1D(),\n",
    "    layers.Flatten(),\n",
    "    layers.Dense(50, 'relu'),\n",
    "    layers.Dense(1)\n",
    "    \n",
    "])\n",
    "\n",
    "model_2.compile(optimizer='adam', loss='mse')\n",
    "model_2.summary()"
   ],
   "metadata": {
    "collapsed": false,
    "ExecuteTime": {
     "end_time": "2024-03-12T21:58:53.049909400Z",
     "start_time": "2024-03-12T21:58:52.912680300Z"
    }
   }
  },
  {
   "cell_type": "code",
   "execution_count": 17,
   "outputs": [],
   "source": [
    "history_2 = model_2.fit(X, y, epochs=100, verbose=False)"
   ],
   "metadata": {
    "collapsed": false,
    "ExecuteTime": {
     "end_time": "2024-03-12T21:59:09.437315800Z",
     "start_time": "2024-03-12T21:58:59.876770100Z"
    }
   }
  },
  {
   "cell_type": "code",
   "execution_count": 18,
   "outputs": [
    {
     "data": {
      "text/plain": "<Figure size 500x300 with 1 Axes>",
      "image/png": "[encoded data removed]"
     },
     "metadata": {},
     "output_type": "display_data"
    }
   ],
   "source": [
    "plt.figure(figsize=(5,3))\n",
    "\n",
    "plt.plot(history_2.history['loss'])\n",
    "plt.suptitle('Loss')\n",
    "\n",
    "plt.show()"
   ],
   "metadata": {
    "collapsed": false,
    "ExecuteTime": {
     "end_time": "2024-03-12T21:59:09.632700900Z",
     "start_time": "2024-03-12T21:59:09.439782700Z"
    }
   }
  },
  {
   "cell_type": "code",
   "execution_count": 19,
   "outputs": [],
   "source": [
    "def create_submodel(steps, features):\n",
    "    visible = layers.Input((steps, features))\n",
    "    cnn = layers.Conv1D(64, 2, activation='relu')(visible)\n",
    "    cnn = layers.MaxPooling1D()(cnn)\n",
    "    cnn = layers.Flatten()(cnn)\n",
    "    return visible, cnn"
   ],
   "metadata": {
    "collapsed": false,
    "ExecuteTime": {
     "end_time": "2024-03-12T21:59:14.172823500Z",
     "start_time": "2024-03-12T21:59:14.142101800Z"
    }
   }
  },
  {
   "cell_type": "code",
   "execution_count": 20,
   "outputs": [],
   "source": [
    "n_features = 1\n",
    "submodels = [create_submodel(steps=n_steps, features=n_features) for x in range(X.shape[-1])]\n",
    "inputs = [x[0] for x in submodels]\n",
    "cnns = [x[1] for x in submodels]\n",
    "\n",
    "merge = layers.concatenate(cnns)\n",
    "dense = layers.Dense(50, activation='relu')(merge)\n",
    "output = layers.Dense(1)(dense)"
   ],
   "metadata": {
    "collapsed": false,
    "ExecuteTime": {
     "end_time": "2024-03-12T21:59:20.665378500Z",
     "start_time": "2024-03-12T21:59:20.415705100Z"
    }
   }
  },
  {
   "cell_type": "code",
   "execution_count": 21,
   "outputs": [
    {
     "name": "stdout",
     "output_type": "stream",
     "text": [
      "Model: \"model\"\n",
      "__________________________________________________________________________________________________\n",
      " Layer (type)                Output Shape                 Param #   Connected to                  \n",
      "==================================================================================================\n",
      " input_3 (InputLayer)        [(None, 3, 1)]               0         []                            \n",
      "                                                                                                  \n",
      " input_4 (InputLayer)        [(None, 3, 1)]               0         []                            \n",
      "                                                                                                  \n",
      " input_5 (InputLayer)        [(None, 3, 1)]               0         []                            \n",
      "                                                                                                  \n",
      " input_6 (InputLayer)        [(None, 3, 1)]               0         []                            \n",
      "                                                                                                  \n",
      " input_7 (InputLayer)        [(None, 3, 1)]               0         []                            \n",
      "                                                                                                  \n",
      " conv1d_2 (Conv1D)           (None, 2, 64)                192       ['input_3[0][0]']             \n",
      "                                                                                                  \n",
      " conv1d_3 (Conv1D)           (None, 2, 64)                192       ['input_4[0][0]']             \n",
      "                                                                                                  \n",
      " conv1d_4 (Conv1D)           (None, 2, 64)                192       ['input_5[0][0]']             \n",
      "                                                                                                  \n",
      " conv1d_5 (Conv1D)           (None, 2, 64)                192       ['input_6[0][0]']             \n",
      "                                                                                                  \n",
      " conv1d_6 (Conv1D)           (None, 2, 64)                192       ['input_7[0][0]']             \n",
      "                                                                                                  \n",
      " max_pooling1d_2 (MaxPoolin  (None, 1, 64)                0         ['conv1d_2[0][0]']            \n",
      " g1D)                                                                                             \n",
      "                                                                                                  \n",
      " max_pooling1d_3 (MaxPoolin  (None, 1, 64)                0         ['conv1d_3[0][0]']            \n",
      " g1D)                                                                                             \n",
      "                                                                                                  \n",
      " max_pooling1d_4 (MaxPoolin  (None, 1, 64)                0         ['conv1d_4[0][0]']            \n",
      " g1D)                                                                                             \n",
      "                                                                                                  \n",
      " max_pooling1d_5 (MaxPoolin  (None, 1, 64)                0         ['conv1d_5[0][0]']            \n",
      " g1D)                                                                                             \n",
      "                                                                                                  \n",
      " max_pooling1d_6 (MaxPoolin  (None, 1, 64)                0         ['conv1d_6[0][0]']            \n",
      " g1D)                                                                                             \n",
      "                                                                                                  \n",
      " flatten_2 (Flatten)         (None, 64)                   0         ['max_pooling1d_2[0][0]']     \n",
      "                                                                                                  \n",
      " flatten_3 (Flatten)         (None, 64)                   0         ['max_pooling1d_3[0][0]']     \n",
      "                                                                                                  \n",
      " flatten_4 (Flatten)         (None, 64)                   0         ['max_pooling1d_4[0][0]']     \n",
      "                                                                                                  \n",
      " flatten_5 (Flatten)         (None, 64)                   0         ['max_pooling1d_5[0][0]']     \n",
      "                                                                                                  \n",
      " flatten_6 (Flatten)         (None, 64)                   0         ['max_pooling1d_6[0][0]']     \n",
      "                                                                                                  \n",
      " concatenate (Concatenate)   (None, 320)                  0         ['flatten_2[0][0]',           \n",
      "                                                                     'flatten_3[0][0]',           \n",
      "                                                                     'flatten_4[0][0]',           \n",
      "                                                                     'flatten_5[0][0]',           \n",
      "                                                                     'flatten_6[0][0]']           \n",
      "                                                                                                  \n",
      " dense_4 (Dense)             (None, 50)                   16050     ['concatenate[0][0]']         \n",
      "                                                                                                  \n",
      " dense_5 (Dense)             (None, 1)                    51        ['dense_4[0][0]']             \n",
      "                                                                                                  \n",
      "==================================================================================================\n",
      "Total params: 17061 (66.64 KB)\n",
      "Trainable params: 17061 (66.64 KB)\n",
      "Non-trainable params: 0 (0.00 Byte)\n",
      "__________________________________________________________________________________________________\n"
     ]
    }
   ],
   "source": [
    "model_3 = Model(inputs=[inputs], outputs=[output])\n",
    "model_3.compile(optimizer='adam', loss='mse')\n",
    "model_3.summary()"
   ],
   "metadata": {
    "collapsed": false,
    "ExecuteTime": {
     "end_time": "2024-03-12T21:59:26.111247900Z",
     "start_time": "2024-03-12T21:59:25.910105400Z"
    }
   }
  },
  {
   "cell_type": "code",
   "execution_count": 25,
   "outputs": [],
   "source": [
    "X1 = X[:, :, 0].reshape(X.shape[0], X.shape[1], n_features)\n",
    "X2 = X[:, :, 1].reshape(X.shape[0], X.shape[1], n_features)\n",
    "X3 = X[:, :, 2].reshape(X.shape[0], X.shape[1], n_features)\n",
    "X4 = X[:, :, 3].reshape(X.shape[0], X.shape[1], n_features)\n",
    "\n"
   ],
   "metadata": {
    "collapsed": false,
    "ExecuteTime": {
     "end_time": "2024-03-12T22:00:28.458691600Z",
     "start_time": "2024-03-12T22:00:28.434527800Z"
    }
   }
  },
  {
   "cell_type": "code",
   "execution_count": 26,
   "outputs": [
    {
     "ename": "AssertionError",
     "evalue": "in user code:\n\n    File \"C:\\Users\\Acer\\anaconda3\\Lib\\site-packages\\keras\\src\\engine\\training.py\", line 1401, in train_function  *\n        return step_function(self, iterator)\n    File \"C:\\Users\\Acer\\anaconda3\\Lib\\site-packages\\keras\\src\\engine\\training.py\", line 1384, in step_function  **\n        outputs = model.distribute_strategy.run(run_step, args=(data,))\n    File \"C:\\Users\\Acer\\anaconda3\\Lib\\site-packages\\keras\\src\\engine\\training.py\", line 1373, in run_step  **\n        outputs = model.train_step(data)\n    File \"C:\\Users\\Acer\\anaconda3\\Lib\\site-packages\\keras\\src\\engine\\training.py\", line 1150, in train_step\n        y_pred = self(x, training=True)\n    File \"C:\\Users\\Acer\\anaconda3\\Lib\\site-packages\\keras\\src\\utils\\traceback_utils.py\", line 70, in error_handler\n        raise e.with_traceback(filtered_tb) from None\n    File \"C:\\Users\\Acer\\anaconda3\\Lib\\site-packages\\keras\\src\\engine\\functional.py\", line 683, in _run_internal_graph\n        assert x_id in tensor_dict, \"Could not compute output \" + str(x)\n\n    AssertionError: Exception encountered when calling layer 'model' (type Functional).\n    \n    Could not compute output KerasTensor(type_spec=TensorSpec(shape=(None, 1), dtype=tf.float32, name=None), name='dense_5/BiasAdd:0', description=\"created by layer 'dense_5'\")\n    \n    Call arguments received by layer 'model' (type Functional):\n      • inputs=('tf.Tensor(shape=(None, 3, 1), dtype=int64)', 'tf.Tensor(shape=(None, 3, 1), dtype=int64)', 'tf.Tensor(shape=(None, 3, 1), dtype=int64)', 'tf.Tensor(shape=(None, 3, 1), dtype=int64)')\n      • training=True\n      • mask=None\n",
     "output_type": "error",
     "traceback": [
      "\u001B[1;31m---------------------------------------------------------------------------\u001B[0m",
      "\u001B[1;31mAssertionError\u001B[0m                            Traceback (most recent call last)",
      "Cell \u001B[1;32mIn[26], line 1\u001B[0m\n\u001B[1;32m----> 1\u001B[0m history_3 \u001B[38;5;241m=\u001B[39m model_3\u001B[38;5;241m.\u001B[39mfit([X1, X2, X3, X4], y, epochs\u001B[38;5;241m=\u001B[39m\u001B[38;5;241m100\u001B[39m, verbose\u001B[38;5;241m=\u001B[39m\u001B[38;5;241m0\u001B[39m)\n",
      "File \u001B[1;32m~\\anaconda3\\Lib\\site-packages\\keras\\src\\utils\\traceback_utils.py:70\u001B[0m, in \u001B[0;36mfilter_traceback.<locals>.error_handler\u001B[1;34m(*args, **kwargs)\u001B[0m\n\u001B[0;32m     67\u001B[0m     filtered_tb \u001B[38;5;241m=\u001B[39m _process_traceback_frames(e\u001B[38;5;241m.\u001B[39m__traceback__)\n\u001B[0;32m     68\u001B[0m     \u001B[38;5;66;03m# To get the full stack trace, call:\u001B[39;00m\n\u001B[0;32m     69\u001B[0m     \u001B[38;5;66;03m# `tf.debugging.disable_traceback_filtering()`\u001B[39;00m\n\u001B[1;32m---> 70\u001B[0m     \u001B[38;5;28;01mraise\u001B[39;00m e\u001B[38;5;241m.\u001B[39mwith_traceback(filtered_tb) \u001B[38;5;28;01mfrom\u001B[39;00m \u001B[38;5;28;01mNone\u001B[39;00m\n\u001B[0;32m     71\u001B[0m \u001B[38;5;28;01mfinally\u001B[39;00m:\n\u001B[0;32m     72\u001B[0m     \u001B[38;5;28;01mdel\u001B[39;00m filtered_tb\n",
      "File \u001B[1;32m~\\AppData\\Local\\Temp\\__autograph_generated_fileenty52vq.py:15\u001B[0m, in \u001B[0;36mouter_factory.<locals>.inner_factory.<locals>.tf__train_function\u001B[1;34m(iterator)\u001B[0m\n\u001B[0;32m     13\u001B[0m \u001B[38;5;28;01mtry\u001B[39;00m:\n\u001B[0;32m     14\u001B[0m     do_return \u001B[38;5;241m=\u001B[39m \u001B[38;5;28;01mTrue\u001B[39;00m\n\u001B[1;32m---> 15\u001B[0m     retval_ \u001B[38;5;241m=\u001B[39m ag__\u001B[38;5;241m.\u001B[39mconverted_call(ag__\u001B[38;5;241m.\u001B[39mld(step_function), (ag__\u001B[38;5;241m.\u001B[39mld(\u001B[38;5;28mself\u001B[39m), ag__\u001B[38;5;241m.\u001B[39mld(iterator)), \u001B[38;5;28;01mNone\u001B[39;00m, fscope)\n\u001B[0;32m     16\u001B[0m \u001B[38;5;28;01mexcept\u001B[39;00m:\n\u001B[0;32m     17\u001B[0m     do_return \u001B[38;5;241m=\u001B[39m \u001B[38;5;28;01mFalse\u001B[39;00m\n",
      "\u001B[1;31mAssertionError\u001B[0m: in user code:\n\n    File \"C:\\Users\\Acer\\anaconda3\\Lib\\site-packages\\keras\\src\\engine\\training.py\", line 1401, in train_function  *\n        return step_function(self, iterator)\n    File \"C:\\Users\\Acer\\anaconda3\\Lib\\site-packages\\keras\\src\\engine\\training.py\", line 1384, in step_function  **\n        outputs = model.distribute_strategy.run(run_step, args=(data,))\n    File \"C:\\Users\\Acer\\anaconda3\\Lib\\site-packages\\keras\\src\\engine\\training.py\", line 1373, in run_step  **\n        outputs = model.train_step(data)\n    File \"C:\\Users\\Acer\\anaconda3\\Lib\\site-packages\\keras\\src\\engine\\training.py\", line 1150, in train_step\n        y_pred = self(x, training=True)\n    File \"C:\\Users\\Acer\\anaconda3\\Lib\\site-packages\\keras\\src\\utils\\traceback_utils.py\", line 70, in error_handler\n        raise e.with_traceback(filtered_tb) from None\n    File \"C:\\Users\\Acer\\anaconda3\\Lib\\site-packages\\keras\\src\\engine\\functional.py\", line 683, in _run_internal_graph\n        assert x_id in tensor_dict, \"Could not compute output \" + str(x)\n\n    AssertionError: Exception encountered when calling layer 'model' (type Functional).\n    \n    Could not compute output KerasTensor(type_spec=TensorSpec(shape=(None, 1), dtype=tf.float32, name=None), name='dense_5/BiasAdd:0', description=\"created by layer 'dense_5'\")\n    \n    Call arguments received by layer 'model' (type Functional):\n      • inputs=('tf.Tensor(shape=(None, 3, 1), dtype=int64)', 'tf.Tensor(shape=(None, 3, 1), dtype=int64)', 'tf.Tensor(shape=(None, 3, 1), dtype=int64)', 'tf.Tensor(shape=(None, 3, 1), dtype=int64)')\n      • training=True\n      • mask=None\n"
     ]
    }
   ],
   "source": [
    "history_3 = model_3.fit([X1, X2, X3, X4], y, epochs=100, verbose=0)"
   ],
   "metadata": {
    "collapsed": false,
    "ExecuteTime": {
     "end_time": "2024-03-12T22:00:29.031541800Z",
     "start_time": "2024-03-12T22:00:28.658416300Z"
    }
   }
  },
  {
   "cell_type": "code",
   "execution_count": 27,
   "outputs": [
    {
     "data": {
      "text/plain": "<Figure size 500x300 with 1 Axes>",
      "image/png": "[encoded data removed]"
     },
     "metadata": {},
     "output_type": "display_data"
    }
   ],
   "source": [
    "plt.figure(figsize=(5,3))\n",
    "\n",
    "plt.plot(history_3.history['loss'])\n",
    "plt.suptitle('Loss')\n",
    "\n",
    "plt.show()"
   ],
   "metadata": {
    "collapsed": false,
    "ExecuteTime": {
     "end_time": "2024-03-12T22:00:31.232595900Z",
     "start_time": "2024-03-12T22:00:31.058207800Z"
    }
   }
  },
  {
   "cell_type": "code",
   "execution_count": 29,
   "outputs": [],
   "source": [
    "def split_multiple_forecasting_sequence(sequence, n_steps):\n",
    "    X, y = list(), list()\n",
    "    for i in range(len(sequence)):\n",
    "        end_ix = i + n_steps\n",
    "        \n",
    "        if end_ix > len(sequence)-1:\n",
    "            break\n",
    "\n",
    "        seq_x, seq_y = sequence[i:end_ix, :], sequence[end_ix, :]\n",
    "        X.append(seq_x)\n",
    "        y.append(seq_y)\n",
    "    return np.array(X), np.array(y)"
   ],
   "metadata": {
    "collapsed": false,
    "ExecuteTime": {
     "end_time": "2024-03-12T22:01:16.400131400Z",
     "start_time": "2024-03-12T22:01:16.370784200Z"
    }
   }
  },
  {
   "cell_type": "code",
   "execution_count": 30,
   "outputs": [
    {
     "name": "stdout",
     "output_type": "stream",
     "text": [
      "X: (542, 3, 6)\n",
      "y: (542, 6)\n"
     ]
    }
   ],
   "source": [
    "X, y = split_multiple_forecasting_sequence(numeric_data.to_numpy(), n_steps)\n",
    "\n",
    "print(f'X: {X.shape}')\n",
    "print(f'y: {y.shape}')"
   ],
   "metadata": {
    "collapsed": false,
    "ExecuteTime": {
     "end_time": "2024-03-12T22:01:16.734866300Z",
     "start_time": "2024-03-12T22:01:16.713863900Z"
    }
   }
  },
  {
   "cell_type": "code",
   "execution_count": 31,
   "outputs": [
    {
     "name": "stdout",
     "output_type": "stream",
     "text": [
      "Model: \"sequential_2\"\n",
      "_________________________________________________________________\n",
      " Layer (type)                Output Shape              Param #   \n",
      "=================================================================\n",
      " conv1d_7 (Conv1D)           (None, 2, 64)             832       \n",
      "                                                                 \n",
      " max_pooling1d_7 (MaxPoolin  (None, 1, 64)             0         \n",
      " g1D)                                                            \n",
      "                                                                 \n",
      " flatten_7 (Flatten)         (None, 64)                0         \n",
      "                                                                 \n",
      " dense_6 (Dense)             (None, 50)                3250      \n",
      "                                                                 \n",
      " dense_7 (Dense)             (None, 6)                 306       \n",
      "                                                                 \n",
      "=================================================================\n",
      "Total params: 4388 (17.14 KB)\n",
      "Trainable params: 4388 (17.14 KB)\n",
      "Non-trainable params: 0 (0.00 Byte)\n",
      "_________________________________________________________________\n"
     ]
    }
   ],
   "source": [
    "n_features = X.shape[2]\n",
    "\n",
    "model_4 = Sequential([\n",
    "    layers.Input(shape=(n_steps, n_features)),\n",
    "    layers.Conv1D(64, 2, activation='relu'),\n",
    "    layers.MaxPooling1D(),\n",
    "    layers.Flatten(),\n",
    "    layers.Dense(50, activation='relu'),\n",
    "    layers.Dense(n_features)\n",
    "])\n",
    "\n",
    "model_4.compile(optimizer='adam', loss='mse')\n",
    "\n",
    "model_4.summary()"
   ],
   "metadata": {
    "collapsed": false,
    "ExecuteTime": {
     "end_time": "2024-03-12T22:08:30.977470700Z",
     "start_time": "2024-03-12T22:08:30.793140500Z"
    }
   }
  },
  {
   "cell_type": "code",
   "execution_count": 32,
   "outputs": [],
   "source": [
    "history_4 = model_4.fit(X, y, epochs=100, verbose=0)"
   ],
   "metadata": {
    "collapsed": false,
    "ExecuteTime": {
     "end_time": "2024-03-12T22:16:30.748566300Z",
     "start_time": "2024-03-12T22:16:19.942598800Z"
    }
   }
  },
  {
   "cell_type": "code",
   "execution_count": 33,
   "outputs": [
    {
     "data": {
      "text/plain": "<Figure size 500x300 with 1 Axes>",
      "image/png": "[encoded data removed]"
     },
     "metadata": {},
     "output_type": "display_data"
    }
   ],
   "source": [
    "plt.figure(figsize=(5,3))\n",
    "\n",
    "plt.plot(history_4.history['loss'])\n",
    "plt.suptitle('Loss')\n",
    "\n",
    "plt.show()"
   ],
   "metadata": {
    "collapsed": false,
    "ExecuteTime": {
     "end_time": "2024-03-12T22:16:31.736792700Z",
     "start_time": "2024-03-12T22:16:30.754978Z"
    }
   }
  },
  {
   "cell_type": "code",
   "execution_count": 34,
   "outputs": [],
   "source": [
    "visible = layers.Input(shape=(n_steps, n_features))\n",
    "cnn = layers.Conv1D(64, 2, activation='relu')(visible)\n",
    "cnn = layers.MaxPooling1D()(cnn)\n",
    "cnn = layers.Flatten()(cnn)\n",
    "cnn = layers.Dense(50, activation='relu')(cnn)"
   ],
   "metadata": {
    "collapsed": false,
    "ExecuteTime": {
     "end_time": "2024-03-12T22:16:47.316225400Z",
     "start_time": "2024-03-12T22:16:47.228080400Z"
    }
   }
  },
  {
   "cell_type": "code",
   "execution_count": 35,
   "outputs": [
    {
     "name": "stdout",
     "output_type": "stream",
     "text": [
      "Model: \"model_1\"\n",
      "__________________________________________________________________________________________________\n",
      " Layer (type)                Output Shape                 Param #   Connected to                  \n",
      "==================================================================================================\n",
      " input_9 (InputLayer)        [(None, 3, 6)]               0         []                            \n",
      "                                                                                                  \n",
      " conv1d_8 (Conv1D)           (None, 2, 64)                832       ['input_9[0][0]']             \n",
      "                                                                                                  \n",
      " max_pooling1d_8 (MaxPoolin  (None, 1, 64)                0         ['conv1d_8[0][0]']            \n",
      " g1D)                                                                                             \n",
      "                                                                                                  \n",
      " flatten_8 (Flatten)         (None, 64)                   0         ['max_pooling1d_8[0][0]']     \n",
      "                                                                                                  \n",
      " dense_8 (Dense)             (None, 50)                   3250      ['flatten_8[0][0]']           \n",
      "                                                                                                  \n",
      " output_1 (Dense)            (None, 1)                    51        ['dense_8[0][0]']             \n",
      "                                                                                                  \n",
      " output_2 (Dense)            (None, 1)                    51        ['dense_8[0][0]']             \n",
      "                                                                                                  \n",
      " output_3 (Dense)            (None, 1)                    51        ['dense_8[0][0]']             \n",
      "                                                                                                  \n",
      " output_4 (Dense)            (None, 1)                    51        ['dense_8[0][0]']             \n",
      "                                                                                                  \n",
      " output_5 (Dense)            (None, 1)                    51        ['dense_8[0][0]']             \n",
      "                                                                                                  \n",
      " output_6 (Dense)            (None, 1)                    51        ['dense_8[0][0]']             \n",
      "                                                                                                  \n",
      "==================================================================================================\n",
      "Total params: 4388 (17.14 KB)\n",
      "Trainable params: 4388 (17.14 KB)\n",
      "Non-trainable params: 0 (0.00 Byte)\n",
      "__________________________________________________________________________________________________\n"
     ]
    }
   ],
   "source": [
    "outputs = [layers.Dense(1, name=f'output_{i+1}')(cnn) for i in range(X.shape[-1])]\n",
    "\n",
    "model_5 = Model(inputs=visible, outputs=outputs)\n",
    "model_5.compile(optimizer='adam', loss='mse')\n",
    "\n",
    "model_5.summary()"
   ],
   "metadata": {
    "collapsed": false,
    "ExecuteTime": {
     "end_time": "2024-03-12T22:16:55.252725800Z",
     "start_time": "2024-03-12T22:16:54.910768400Z"
    }
   }
  },
  {
   "cell_type": "code",
   "execution_count": 36,
   "outputs": [
    {
     "name": "stdout",
     "output_type": "stream",
     "text": [
      "WARNING:tensorflow:From C:\\Users\\Acer\\anaconda3\\Lib\\site-packages\\keras\\src\\engine\\base_layer_utils.py:384: The name tf.executing_eagerly_outside_functions is deprecated. Please use tf.compat.v1.executing_eagerly_outside_functions instead.\n"
     ]
    }
   ],
   "source": [
    "history_5 = model_5.fit(X, y.reshape((-1,1,6)), epochs=150, verbose=0)"
   ],
   "metadata": {
    "collapsed": false,
    "ExecuteTime": {
     "end_time": "2024-03-12T22:17:29.933212Z",
     "start_time": "2024-03-12T22:17:06.480483800Z"
    }
   }
  },
  {
   "cell_type": "code",
   "execution_count": 37,
   "outputs": [
    {
     "data": {
      "text/plain": "<Figure size 500x300 with 0 Axes>"
     },
     "metadata": {},
     "output_type": "display_data"
    },
    {
     "data": {
      "text/plain": "<Figure size 640x480 with 1 Axes>",
      "image/png": "[encoded data removed]"
     },
     "metadata": {},
     "output_type": "display_data"
    }
   ],
   "source": [
    "plt.figure(figsize=(5,3))\n",
    "\n",
    "pd.DataFrame(history_5.history).drop(columns=['loss']).plot()\n",
    "plt.suptitle('Loss')\n",
    "\n",
    "plt.legend()\n",
    "plt.show()"
   ],
   "metadata": {
    "collapsed": false,
    "ExecuteTime": {
     "end_time": "2024-03-12T22:17:30.552956700Z",
     "start_time": "2024-03-12T22:17:29.940211Z"
    }
   }
  },
  {
   "cell_type": "markdown",
   "source": [
    "## Parte 3"
   ],
   "metadata": {
    "collapsed": false
   }
  },
  {
   "cell_type": "code",
   "execution_count": 38,
   "outputs": [],
   "source": [
    "def split_univariate_sequence_m_step(sequence, n_steps_in, n_steps_out):\n",
    "    X, y = list(), list()\n",
    "    for i in range(len(sequence)):\n",
    "\n",
    "        end_ix = i + n_steps_in\n",
    "        out_end_ix = end_ix + n_steps_out\n",
    "\n",
    "        if out_end_ix > len(sequence):\n",
    "            break\n",
    "        seq_x, seq_y = sequence[i:end_ix], sequence[end_ix:out_end_ix]\n",
    "        X.append(seq_x)\n",
    "        y.append(seq_y)\n",
    "    return np.array(X), np.array(y)"
   ],
   "metadata": {
    "collapsed": false,
    "ExecuteTime": {
     "end_time": "2024-03-12T22:17:58.503318Z",
     "start_time": "2024-03-12T22:17:58.445243Z"
    }
   }
  },
  {
   "cell_type": "code",
   "execution_count": 39,
   "outputs": [
    {
     "name": "stdout",
     "output_type": "stream",
     "text": [
      "X: (541, 3, 1)\n",
      "y: (541, 2)\n"
     ]
    }
   ],
   "source": [
    "n_features = 1\n",
    "n_steps_in, n_steps_out = 3, 2\n",
    "\n",
    "X, y = split_univariate_sequence_m_step(data['price'], n_steps_in, n_steps_out)\n",
    "X = X.reshape((X.shape[0], X.shape[1], n_features))\n",
    "\n",
    "print(f'X: {X.shape}')\n",
    "print(f'y: {y.shape}')"
   ],
   "metadata": {
    "collapsed": false,
    "ExecuteTime": {
     "end_time": "2024-03-12T22:18:06.735534700Z",
     "start_time": "2024-03-12T22:18:06.622176900Z"
    }
   }
  },
  {
   "cell_type": "code",
   "execution_count": 40,
   "outputs": [
    {
     "name": "stdout",
     "output_type": "stream",
     "text": [
      "Model: \"sequential_3\"\n",
      "_________________________________________________________________\n",
      " Layer (type)                Output Shape              Param #   \n",
      "=================================================================\n",
      " conv1d_9 (Conv1D)           (None, 2, 64)             192       \n",
      "                                                                 \n",
      " max_pooling1d_9 (MaxPoolin  (None, 1, 64)             0         \n",
      " g1D)                                                            \n",
      "                                                                 \n",
      " flatten_9 (Flatten)         (None, 64)                0         \n",
      "                                                                 \n",
      " dense_9 (Dense)             (None, 50)                3250      \n",
      "                                                                 \n",
      " dense_10 (Dense)            (None, 2)                 102       \n",
      "                                                                 \n",
      "=================================================================\n",
      "Total params: 3544 (13.84 KB)\n",
      "Trainable params: 3544 (13.84 KB)\n",
      "Non-trainable params: 0 (0.00 Byte)\n",
      "_________________________________________________________________\n"
     ]
    }
   ],
   "source": [
    "model_6 = Sequential([\n",
    "    layers.Input(shape=(n_steps_in, n_features)),\n",
    "    layers.Conv1D(64, 2, activation='relu'),\n",
    "    layers.MaxPooling1D(),\n",
    "    layers.Flatten(),\n",
    "    layers.Dense(50, activation='relu'),\n",
    "    layers.Dense(n_steps_out)\n",
    "])\n",
    "\n",
    "model_6.compile(optimizer='adam', loss='mse')\n",
    "\n",
    "model_6.summary()"
   ],
   "metadata": {
    "collapsed": false,
    "ExecuteTime": {
     "end_time": "2024-03-12T22:18:14.161476600Z",
     "start_time": "2024-03-12T22:18:13.956049500Z"
    }
   }
  },
  {
   "cell_type": "code",
   "execution_count": 41,
   "outputs": [],
   "source": [
    "history_6 = model_6.fit(X, y, epochs=100, verbose=0)"
   ],
   "metadata": {
    "collapsed": false,
    "ExecuteTime": {
     "end_time": "2024-03-12T22:18:37.249325300Z",
     "start_time": "2024-03-12T22:18:25.182005400Z"
    }
   }
  },
  {
   "cell_type": "code",
   "execution_count": 42,
   "outputs": [
    {
     "data": {
      "text/plain": "<Figure size 500x300 with 1 Axes>",
      "image/png": "[encoded data removed]"
     },
     "metadata": {},
     "output_type": "display_data"
    }
   ],
   "source": [
    "plt.figure(figsize=(5,3))\n",
    "\n",
    "plt.plot(history_6.history['loss'])\n",
    "plt.suptitle('Loss')\n",
    "\n",
    "plt.show()"
   ],
   "metadata": {
    "collapsed": false,
    "ExecuteTime": {
     "end_time": "2024-03-12T22:18:37.662147900Z",
     "start_time": "2024-03-12T22:18:37.238233800Z"
    }
   }
  },
  {
   "cell_type": "code",
   "execution_count": 43,
   "outputs": [],
   "source": [
    "def split_multivariate_sequence_m_step(sequence: np.ndarray, n_steps_in: int, n_steps_out: int):\n",
    "    X, y = list(), list()\n",
    "    for i in range(len(sequence)):\n",
    "\n",
    "        end_ix = i + n_steps_in\n",
    "        out_end_ix = end_ix + n_steps_out - 1\n",
    "\n",
    "        if out_end_ix > len(sequence):\n",
    "            break\n",
    "\n",
    "        seq_x, seq_y = sequence[i:end_ix, :-1], sequence[end_ix-1:out_end_ix, -1]\n",
    "        X.append(seq_x)\n",
    "        y.append(seq_y)\n",
    "    return np.array(X), np.array(y)"
   ],
   "metadata": {
    "collapsed": false,
    "ExecuteTime": {
     "end_time": "2024-03-12T22:18:51.817953800Z",
     "start_time": "2024-03-12T22:18:51.786237100Z"
    }
   }
  },
  {
   "cell_type": "code",
   "execution_count": 44,
   "outputs": [
    {
     "name": "stdout",
     "output_type": "stream",
     "text": [
      "X: (542, 3, 5)\n",
      "y: (542, 2)\n"
     ]
    }
   ],
   "source": [
    "X, y = split_multivariate_sequence_m_step(numeric_data.to_numpy(), n_steps_in, n_steps_out)\n",
    "\n",
    "print(f'X: {X.shape}')\n",
    "print(f'y: {y.shape}')"
   ],
   "metadata": {
    "collapsed": false,
    "ExecuteTime": {
     "end_time": "2024-03-12T22:18:59.743562Z",
     "start_time": "2024-03-12T22:18:59.691474700Z"
    }
   }
  },
  {
   "cell_type": "code",
   "execution_count": 45,
   "outputs": [
    {
     "name": "stdout",
     "output_type": "stream",
     "text": [
      "Model: \"sequential_4\"\n",
      "_________________________________________________________________\n",
      " Layer (type)                Output Shape              Param #   \n",
      "=================================================================\n",
      " conv1d_10 (Conv1D)          (None, 2, 64)             704       \n",
      "                                                                 \n",
      " max_pooling1d_10 (MaxPooli  (None, 1, 64)             0         \n",
      " ng1D)                                                           \n",
      "                                                                 \n",
      " flatten_10 (Flatten)        (None, 64)                0         \n",
      "                                                                 \n",
      " dense_11 (Dense)            (None, 50)                3250      \n",
      "                                                                 \n",
      " dense_12 (Dense)            (None, 2)                 102       \n",
      "                                                                 \n",
      "=================================================================\n",
      "Total params: 4056 (15.84 KB)\n",
      "Trainable params: 4056 (15.84 KB)\n",
      "Non-trainable params: 0 (0.00 Byte)\n",
      "_________________________________________________________________\n"
     ]
    }
   ],
   "source": [
    "n_features = X.shape[2] \n",
    "model_7 = Sequential([\n",
    "    layers.Input(shape=(n_steps_in, n_features)),\n",
    "    layers.Conv1D(64, 2, activation='relu'),\n",
    "    layers.MaxPooling1D(),\n",
    "    layers.Flatten(),\n",
    "    layers.Dense(50, activation='relu'),\n",
    "    layers.Dense(n_steps_out)\n",
    "])\n",
    "\n",
    "model_7.compile(optimizer='adam', loss='mse')\n",
    "\n",
    "model_7.summary()"
   ],
   "metadata": {
    "collapsed": false,
    "ExecuteTime": {
     "end_time": "2024-03-12T22:19:09.543441300Z",
     "start_time": "2024-03-12T22:19:09.401601600Z"
    }
   }
  },
  {
   "cell_type": "code",
   "execution_count": 46,
   "outputs": [],
   "source": [
    "history_7 = model_7.fit(X, y, epochs=100, verbose=0)"
   ],
   "metadata": {
    "collapsed": false,
    "ExecuteTime": {
     "end_time": "2024-03-12T22:19:31.042358600Z",
     "start_time": "2024-03-12T22:19:19.949260400Z"
    }
   }
  },
  {
   "cell_type": "code",
   "execution_count": 47,
   "outputs": [
    {
     "data": {
      "text/plain": "<Figure size 500x300 with 1 Axes>",
      "image/png": "[encoded data removed]"
     },
     "metadata": {},
     "output_type": "display_data"
    }
   ],
   "source": [
    "plt.figure(figsize=(5,3))\n",
    "\n",
    "plt.plot(history_7.history['loss'])\n",
    "plt.suptitle('Loss')\n",
    "\n",
    "plt.show()"
   ],
   "metadata": {
    "collapsed": false,
    "ExecuteTime": {
     "end_time": "2024-03-12T22:19:31.310505400Z",
     "start_time": "2024-03-12T22:19:31.049674200Z"
    }
   }
  },
  {
   "cell_type": "code",
   "execution_count": 49,
   "outputs": [],
   "source": [
    "def split_multivariate_sequence_m_step_parallel(sequence: np.ndarray, n_steps_in: int, n_steps_out: int):\n",
    "    X, y = list(), list()\n",
    "    for i in range(len(sequence)):\n",
    "\n",
    "        end_ix = i + n_steps_in\n",
    "        out_end_ix = end_ix + n_steps_out\n",
    "\n",
    "        if out_end_ix > len(sequence):\n",
    "            break\n",
    "        seq_x, seq_y = sequence[i:end_ix, :], sequence[end_ix:out_end_ix, :]\n",
    "        X.append(seq_x)\n",
    "        y.append(seq_y)\n",
    "    return np.array(X), np.array(y)"
   ],
   "metadata": {
    "collapsed": false,
    "ExecuteTime": {
     "end_time": "2024-03-12T22:20:31.915846700Z",
     "start_time": "2024-03-12T22:20:31.896100800Z"
    }
   }
  },
  {
   "cell_type": "code",
   "execution_count": 50,
   "outputs": [
    {
     "name": "stdout",
     "output_type": "stream",
     "text": [
      "X: (541, 3, 6)\n",
      "y: (541, 12)\n"
     ]
    }
   ],
   "source": [
    "X, y = split_multivariate_sequence_m_step_parallel(numeric_data.to_numpy(), n_steps_in, n_steps_out)\n",
    "\n",
    "n_output = y.shape[1] * y.shape[2]\n",
    "y = y.reshape((y.shape[0], n_output))\n",
    "\n",
    "print(f'X: {X.shape}')\n",
    "print(f'y: {y.shape}')"
   ],
   "metadata": {
    "collapsed": false,
    "ExecuteTime": {
     "end_time": "2024-03-12T22:20:32.119434600Z",
     "start_time": "2024-03-12T22:20:32.065547100Z"
    }
   }
  },
  {
   "cell_type": "code",
   "execution_count": 51,
   "outputs": [],
   "source": [
    "n_features = X.shape[2]\n",
    "\n",
    "model_8 = Sequential([\n",
    "    layers.Input(shape=(n_steps_in, n_features)),\n",
    "    layers.Conv1D(64, 2, activation='relu'),\n",
    "    layers.MaxPooling1D(),\n",
    "    layers.Flatten(),\n",
    "    layers.Dense(50, activation='relu'),\n",
    "    layers.Dense(n_output)\n",
    "])\n",
    "\n",
    "model_8.compile(optimizer='adam', loss='mse')"
   ],
   "metadata": {
    "collapsed": false,
    "ExecuteTime": {
     "end_time": "2024-03-12T22:20:41.858823800Z",
     "start_time": "2024-03-12T22:20:41.723200400Z"
    }
   }
  },
  {
   "cell_type": "code",
   "execution_count": 52,
   "outputs": [],
   "source": [
    "history_8 = model_8.fit(X, y, epochs=100, verbose=0)"
   ],
   "metadata": {
    "collapsed": false,
    "ExecuteTime": {
     "end_time": "2024-03-12T22:21:11.545425100Z",
     "start_time": "2024-03-12T22:20:59.159999800Z"
    }
   }
  },
  {
   "cell_type": "code",
   "execution_count": 53,
   "outputs": [
    {
     "data": {
      "text/plain": "<Figure size 500x300 with 1 Axes>",
      "image/png": "[encoded data removed]"
     },
     "metadata": {},
     "output_type": "display_data"
    }
   ],
   "source": [
    "plt.figure(figsize=(5,3))\n",
    "\n",
    "plt.plot(history_8.history['loss'])\n",
    "plt.suptitle('Loss')\n",
    "\n",
    "plt.show()"
   ],
   "metadata": {
    "collapsed": false,
    "ExecuteTime": {
     "end_time": "2024-03-12T22:21:11.768586700Z",
     "start_time": "2024-03-12T22:21:11.549079600Z"
    }
   }
  },
  {
   "cell_type": "code",
   "execution_count": null,
   "outputs": [],
   "source": [],
   "metadata": {
    "collapsed": false
   }
  },
  {
   "cell_type": "markdown",
   "metadata": {},
   "source": [
    "Código de solución estudiante 2"
   ]
  },
  {
   "cell_type": "code",
   "execution_count": null,
   "metadata": {
    "ExecuteTime": {
     "start_time": "2024-02-14T20:07:40.059785900Z"
    }
   },
   "outputs": [],
   "source": [
    "# Código de solución estudiante 2\n",
    ".\n",
    ".\n",
    ".\n",
    ".\n"
   ]
  },
  {
   "cell_type": "markdown",
   "metadata": {},
   "source": [
    "### Respuesta planteada en el ejercicio usando (markdown)\n",
    " La respuesta es ........."
   ]
  }
 ],
 "metadata": {
  "kernelspec": {
   "display_name": "Python 3 (ipykernel)",
   "language": "python",
   "name": "python3"
  },
  "language_info": {
   "codemirror_mode": {
    "name": "ipython",
    "version": 3
   },
   "file_extension": ".py",
   "mimetype": "text/x-python",
   "name": "python",
   "nbconvert_exporter": "python",
   "pygments_lexer": "ipython3",
   "version": "3.9.12"
  }
 },
 "nbformat": 4,
 "nbformat_minor": 2
}
